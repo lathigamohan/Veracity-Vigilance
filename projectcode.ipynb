{
  "nbformat": 4,
  "nbformat_minor": 0,
  "metadata": {
    "colab": {
      "provenance": [],
      "authorship_tag": "ABX9TyNvFitiMiKF/sLYcf3VF2KB",
      "include_colab_link": true
    },
    "kernelspec": {
      "name": "python3",
      "display_name": "Python 3"
    },
    "language_info": {
      "name": "python"
    }
  },
  "cells": [
    {
      "cell_type": "markdown",
      "metadata": {
        "id": "view-in-github",
        "colab_type": "text"
      },
      "source": [
        "<a href=\"https://colab.research.google.com/github/lathigamohan/Veracity-Vigilance/blob/main/projectcode.ipynb\" target=\"_parent\"><img src=\"https://colab.research.google.com/assets/colab-badge.svg\" alt=\"Open In Colab\"/></a>"
      ]
    },
    {
      "cell_type": "markdown",
      "source": [
        "# **IMPORTING** **DATASET:** + saving the dataset\n",
        "\n",
        "> Add blockquote\n",
        "\n"
      ],
      "metadata": {
        "id": "lf3jqHA1ajDS"
      }
    },
    {
      "cell_type": "code",
      "source": [
        "import pandas as pd\n",
        "\n",
        "# Set the correct path\n",
        "data_path = \"/kaggle/input/fake-news-detection\"\n",
        "\n",
        "# Load the CSVs\n",
        "df_fake = pd.read_csv(f\"{data_path}/Fake.csv\")\n",
        "df_real = pd.read_csv(f\"{data_path}/True.csv\")\n",
        "\n",
        "# Show results\n",
        "print(\" Fake News shape:\", df_fake.shape)\n",
        "print(\" Real News shape:\", df_real.shape)"
      ],
      "metadata": {
        "id": "7f3rLAyrcMRk"
      },
      "execution_count": null,
      "outputs": []
    },
    {
      "cell_type": "markdown",
      "source": [
        "# Data Cleaning and Basic Preprocessing"
      ],
      "metadata": {
        "id": "7PLJAYuebCtw"
      }
    },
    {
      "cell_type": "code",
      "source": [],
      "metadata": {
        "id": "0xod7h05bBeG"
      },
      "execution_count": null,
      "outputs": []
    }
  ]
}