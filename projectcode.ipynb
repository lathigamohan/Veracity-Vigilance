{
  "nbformat": 4,
  "nbformat_minor": 0,
  "metadata": {
    "colab": {
      "provenance": [],
      "authorship_tag": "ABX9TyNRiir1bOPoF+0Xb6fFaYMC",
      "include_colab_link": true
    },
    "kernelspec": {
      "name": "python3",
      "display_name": "Python 3"
    },
    "language_info": {
      "name": "python"
    }
  },
  "cells": [
    {
      "cell_type": "markdown",
      "metadata": {
        "id": "view-in-github",
        "colab_type": "text"
      },
      "source": [
        "<a href=\"https://colab.research.google.com/github/lathigamohan/Veracity-Vigilance/blob/main/projectcode.ipynb\" target=\"_parent\"><img src=\"https://colab.research.google.com/assets/colab-badge.svg\" alt=\"Open In Colab\"/></a>"
      ]
    },
    {
      "cell_type": "markdown",
      "source": [
        "# **IMPORTING** **DATASET:** + saving the dataset\n",
        "\n",
        "> Add blockquote\n",
        "\n"
      ],
      "metadata": {
        "id": "lf3jqHA1ajDS"
      }
    },
    {
      "cell_type": "code",
      "source": [
        "# Add labels\n",
        "df_fake['label'] = 0\n",
        "df_real['label'] = 1\n",
        "\n",
        "# Merge them together\n",
        "df = pd.concat([df_fake, df_real], ignore_index=True)\n",
        "\n",
        "# Shuffle the data\n",
        "df = df.sample(frac=1, random_state=42).reset_index(drop=True)\n",
        "\n",
        "# Show result\n",
        "print(\"✅ Final combined dataset shape:\", df.shape)\n",
        "df.head()"
      ],
      "metadata": {
        "id": "MAKDEtLobTHo"
      },
      "execution_count": null,
      "outputs": []
    },
    {
      "cell_type": "code",
      "source": [
        "df.to_csv(\"fake_news_dataset_labeled.csv\", index=False)\n",
        "print(\"💾 Dataset saved as 'fake_news_dataset_labeled.csv'\")"
      ],
      "metadata": {
        "id": "hZu50UJEbldJ"
      },
      "execution_count": null,
      "outputs": []
    },
    {
      "cell_type": "markdown",
      "source": [
        "# Data Cleaning and Basic Preprocessing"
      ],
      "metadata": {
        "id": "7PLJAYuebCtw"
      }
    },
    {
      "cell_type": "code",
      "source": [],
      "metadata": {
        "id": "0xod7h05bBeG"
      },
      "execution_count": null,
      "outputs": []
    }
  ]
}